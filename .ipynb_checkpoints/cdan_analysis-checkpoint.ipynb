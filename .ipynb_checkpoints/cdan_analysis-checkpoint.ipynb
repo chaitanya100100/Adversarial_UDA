{
 "cells": [
  {
   "cell_type": "code",
   "execution_count": 4,
   "id": "14195bf1",
   "metadata": {},
   "outputs": [],
   "source": [
    "import numpy as np\n",
    "import matplotlib.pyplot as plt\n",
    "import torch"
   ]
  },
  {
   "cell_type": "code",
   "execution_count": null,
   "id": "4b0cd97e",
   "metadata": {},
   "outputs": [],
   "source": [
    "dct_s = np.load('/vision/u/chpatel/dstest/dann_orig/data_train.npz', allow_pickle=True)\n",
    "dct_t = np.load('/vision/u/chpatel/dstest/dann_orig/data_unlabeled.npz', allow_pickle=True)\n",
    "dct_s = {k: dct_s[k] for k in dct_s.keys()}\n",
    "dct_t = {k: dct_t[k] for k in dct_t.keys()}"
   ]
  },
  {
   "cell_type": "code",
   "execution_count": null,
   "id": "1bc362ab",
   "metadata": {},
   "outputs": [],
   "source": [
    "dctc_s = np.load('/vision/u/chpatel/dstest/cdan/data_train.npz', allow_pickle=True)\n",
    "dctc_t = np.load('/vision/u/chpatel/dstest/cdan/data_unlabeled.npz', allow_pickle=True)\n",
    "dctc_s = {k: dctc_s[k] for k in dctc_s.keys()}\n",
    "dctc_t = {k: dctc_t[k] for k in dctc_t.keys()}"
   ]
  },
  {
   "cell_type": "code",
   "execution_count": 14,
   "id": "08499ba4",
   "metadata": {},
   "outputs": [],
   "source": [
    "def entropy(dct):\n",
    "    x = torch.from_numpy(dct['epoch_cls_logits']).softmax(-1).numpy()\n",
    "    epsilon = 1e-5\n",
    "    entropy = -x * np.log(x + epsilon)\n",
    "    entropy = np.sum(entropy, axis=-1)\n",
    "    return entropy\n"
   ]
  },
  {
   "cell_type": "code",
   "execution_count": 15,
   "id": "0c0a21e5",
   "metadata": {},
   "outputs": [
    {
     "name": "stdout",
     "output_type": "stream",
     "text": [
      "0.3295304\n",
      "0.5687197\n",
      "0.17907846\n",
      "0.47496793\n"
     ]
    }
   ],
   "source": [
    "print(entropy(dct_s).mean())\n",
    "print(entropy(dct_t).mean())\n",
    "print(entropy(dctc_s).mean())\n",
    "print(entropy(dctc_t).mean())"
   ]
  },
  {
   "cell_type": "code",
   "execution_count": null,
   "id": "3b1f2f16",
   "metadata": {},
   "outputs": [],
   "source": []
  }
 ],
 "metadata": {
  "kernelspec": {
   "display_name": "Python 3 (ipykernel)",
   "language": "python",
   "name": "python3"
  },
  "language_info": {
   "codemirror_mode": {
    "name": "ipython",
    "version": 3
   },
   "file_extension": ".py",
   "mimetype": "text/x-python",
   "name": "python",
   "nbconvert_exporter": "python",
   "pygments_lexer": "ipython3",
   "version": "3.8.16"
  }
 },
 "nbformat": 4,
 "nbformat_minor": 5
}
