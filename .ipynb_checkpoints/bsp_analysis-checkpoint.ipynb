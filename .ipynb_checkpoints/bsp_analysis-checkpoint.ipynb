{
 "cells": [
  {
   "cell_type": "code",
   "execution_count": 36,
   "id": "3e65e230",
   "metadata": {},
   "outputs": [],
   "source": [
    "import numpy as np\n",
    "import matplotlib.pyplot as plt"
   ]
  },
  {
   "cell_type": "code",
   "execution_count": 37,
   "id": "69c038db",
   "metadata": {},
   "outputs": [],
   "source": [
    "dct_s = np.load('/vision/u/chpatel/dstest/dann_orig/data_train.npz', allow_pickle=True)\n",
    "dct_t = np.load('/vision/u/chpatel/dstest/dann_orig/data_val.npz', allow_pickle=True)\n",
    "dct_tt = np.load('/vision/u/chpatel/dstest/dann_orig/data_test.npz', allow_pickle=True)\n",
    "dct_s = {k: dct_s[k] for k in dct_s.keys()}\n",
    "dct_t = {k: dct_t[k] for k in dct_t.keys()}\n",
    "dct_tt = {k: dct_tt[k] for k in dct_tt.keys()}"
   ]
  },
  {
   "cell_type": "code",
   "execution_count": null,
   "id": "904f9788",
   "metadata": {},
   "outputs": [],
   "source": [
    "def get_sb_sw(f, y, C):\n",
    "    n = np.stack([(y == i).sum() for i in range(C)])\n",
    "    mu_c = np.stack([f[y == i].mean(0) for i in range(C)])\n",
    "    mu_c[np.isnan(mu_c)] = 0\n",
    "    mu = f.mean(0)\n",
    "\n",
    "    sb = (mu_c - mu[None]).T @ ((mu_c - mu[None]) * n_s[:, None])\n",
    "    \n",
    "    sw = np.zeros_like(sb)\n",
    "    for i in range(C):\n",
    "        fi = f[y == i]\n",
    "        sw += (fi - mu_c[i][None]).T @ (fi - mu_c[i][None])\n",
    "    \n",
    "    return sb, sw"
   ]
  },
  {
   "cell_type": "code",
   "execution_count": null,
   "id": "17cd1093",
   "metadata": {},
   "outputs": [],
   "source": [
    "def get_jw(sb, sw):\n",
    "    swinv = np.linalg.inv(sw)\n",
    "    u, s, vh = np.linalg.svd(swinv @ sb)\n",
    "    w = u\n",
    "    nume = np.trace(w.T @ sb @ w)\n",
    "    denom = np.trace(w.T @ sw @ w)\n",
    "    return nume / denom"
   ]
  },
  {
   "cell_type": "code",
   "execution_count": null,
   "id": "0ffba87f",
   "metadata": {},
   "outputs": [],
   "source": [
    "def get_jw_s_t(dct_s, dct_t):\n",
    "    idx = np.arange(dct_s['epoch_feats'].shape[0], dtype=int)\n",
    "    # np.random.shuffle(idx)\n",
    "    # idx = idx[:10000]\n",
    "    f_s = dct_s['epoch_feats'][idx]\n",
    "    y_s = dct_s['epoch_y_true'][idx]\n",
    "\n",
    "    idx = np.arange(dct_t['epoch_feats'].shape[0], dtype=int)\n",
    "    # np.random.shuffle(idx)\n",
    "    # idx = idx[:10000]\n",
    "    f_t = dct_t['epoch_feats'][idx]\n",
    "    y_t = dct_t['epoch_y_true'][idx]\n",
    "    \n",
    "    C = dct_s['epoch_cls_logits'].shape[1]\n",
    "    \n",
    "    sb_s, sw_s = get_sb_sw(f_s, y_s, C)\n",
    "    jw_s = get_jw(sb_s, sw_s)\n",
    "    \n",
    "    sb_t, sw_t = get_sb_sw(f_t, y_t, C)\n",
    "    jw_t = get_jw(sb_t, sw_t)\n",
    "    \n",
    "    return jw_s, jw_t"
   ]
  },
  {
   "cell_type": "code",
   "execution_count": 41,
   "id": "bfd7ce4f",
   "metadata": {},
   "outputs": [],
   "source": [
    "dctc_s = np.load('/vision/u/chpatel/dstest/cdan/data_train.npz', allow_pickle=True)\n",
    "dctc_t = np.load('/vision/u/chpatel/dstest/cdan/data_val.npz', allow_pickle=True)\n",
    "dctc_s = {k: dctc_s[k] for k in dctc_s.keys()}\n",
    "dctc_t = {k: dctc_t[k] for k in dctc_t.keys()}\n",
    "\n",
    "# jwc_s, jwc_t = get_jw_s_t(dctc_s, dctc_t)"
   ]
  },
  {
   "cell_type": "code",
   "execution_count": 54,
   "id": "76f8ef91",
   "metadata": {},
   "outputs": [],
   "source": [
    "dctce_s = np.load('/vision/u/chpatel/dstest/cdane/data_train.npz', allow_pickle=True)\n",
    "dctce_t = np.load('/vision/u/chpatel/dstest/cdane/data_val.npz', allow_pickle=True)\n",
    "dctce_s = {k: dctce_s[k] for k in dctce_s.keys()}\n",
    "dctce_t = {k: dctce_t[k] for k in dctce_t.keys()}"
   ]
  },
  {
   "cell_type": "code",
   "execution_count": 42,
   "id": "7f1d4a72",
   "metadata": {},
   "outputs": [],
   "source": [
    "dctb_s = np.load('/vision/u/chpatel/dstest/dann_bsp/data_train.npz', allow_pickle=True)\n",
    "dctb_t = np.load('/vision/u/chpatel/dstest/dann_bsp/data_val.npz', allow_pickle=True)\n",
    "dctb_s = {k: dctb_s[k] for k in dctb_s.keys()}\n",
    "dctb_t = {k: dctb_t[k] for k in dctb_t.keys()}\n",
    "\n",
    "# jwb_s, jwb_t = get_jw_s_t(dctb_s, dctb_t)"
   ]
  },
  {
   "cell_type": "code",
   "execution_count": null,
   "id": "bc8567a0",
   "metadata": {},
   "outputs": [],
   "source": [
    "print(jw_s, jw_t)\n",
    "print(jwc_s, jwc_t)\n",
    "print(jwb_s, jwb_t)"
   ]
  },
  {
   "cell_type": "code",
   "execution_count": null,
   "id": "2196ba42",
   "metadata": {},
   "outputs": [],
   "source": [
    "def get_feat_singular_vals(dct):\n",
    "    idx = np.arange(dct['epoch_feats'].shape[0], dtype=int)\n",
    "    np.random.shuffle(idx)\n",
    "    idx = idx[:1000]\n",
    "    f = dct['epoch_feats'][idx]\n",
    "    u, s, vh = np.linalg.svd(f)\n",
    "    s = s / s.max()\n",
    "    return s"
   ]
  },
  {
   "cell_type": "code",
   "execution_count": null,
   "id": "eb2db7cf",
   "metadata": {},
   "outputs": [],
   "source": [
    "sv_s = get_feat_singular_vals(dct_s)\n",
    "sv_t = get_feat_singular_vals(dct_t)\n",
    "svb_s = get_feat_singular_vals(dctb_s)\n",
    "svb_t = get_feat_singular_vals(dctb_t)"
   ]
  },
  {
   "cell_type": "code",
   "execution_count": null,
   "id": "75b46e29",
   "metadata": {},
   "outputs": [],
   "source": [
    "k = 10\n",
    "plt.plot(sv_s[:k], label='dann source',  color='green', linestyle='dashed')\n",
    "plt.plot(sv_t[:k], label='dann target',  color='green', linestyle='solid')\n",
    "plt.plot(svb_s[:k], label='bsp source',  color='red', linestyle='dashed')\n",
    "plt.plot(svb_t[:k], label='bsp target',  color='red', linestyle='solid')\n",
    "plt.legend()"
   ]
  },
  {
   "cell_type": "code",
   "execution_count": null,
   "id": "03e11913",
   "metadata": {},
   "outputs": [],
   "source": [
    "def get_a_dist(dct_s, dct_t):\n",
    "    dy = np.concatenate([\n",
    "        dct_s['epoch_metadata'][:,-1],\n",
    "        dct_t['epoch_metadata'][:,-1],\n",
    "    ])\n",
    "    dyhat = np.concatenate([\n",
    "        dct_s['epoch_domcls_logits'].argmax(-1),\n",
    "        dct_t['epoch_domcls_logits'].argmax(-1),\n",
    "    ])\n",
    "    acc = (dy==dyhat).mean()\n",
    "    err = 1-acc\n",
    "    return 2*(1-2*err)"
   ]
  },
  {
   "cell_type": "code",
   "execution_count": null,
   "id": "7775c3db",
   "metadata": {},
   "outputs": [],
   "source": [
    "print(get_a_dist(dct_s, dct_t))\n",
    "print(get_a_dist(dctb_s, dctb_t))"
   ]
  },
  {
   "cell_type": "code",
   "execution_count": null,
   "id": "7e96addd",
   "metadata": {},
   "outputs": [],
   "source": [
    "import torch\n",
    "import torch.nn as nn\n",
    "import tqdm.notebook as tqdm\n",
    "\n",
    "class MLP(nn.Module):\n",
    "    def __init__(self):\n",
    "        super().__init__()\n",
    "        self.model = nn.Sequential(\n",
    "            nn.Linear(2048, 1048),\n",
    "            nn.BatchNorm1d(1048),\n",
    "            nn.ReLU(),\n",
    "#             nn.Linear(1048, 1048),\n",
    "#             nn.BatchNorm1d(1048),\n",
    "#             nn.ReLU(),\n",
    "            nn.Linear(1048, 1)\n",
    "        )\n",
    "    def forward(self, x):\n",
    "        return self.model(x)\n",
    "\n",
    "def get_a_dist(dct, dct2):\n",
    "    \n",
    "    bs = 64\n",
    "    epochs = 5\n",
    "    lr = 1.e-3\n",
    "    \n",
    "    tt = max(dct['epoch_feats'].shape[0], dct2['epoch_feats'].shape[0])\n",
    "    \n",
    "    x = torch.from_numpy(np.concatenate([\n",
    "        dct['epoch_feats'][:tt],\n",
    "        dct2['epoch_feats'][:tt],\n",
    "    ])).float().cuda()\n",
    "    y = torch.from_numpy(np.concatenate([\n",
    "        dct['epoch_metadata'][:tt,-1],\n",
    "        dct2['epoch_metadata'][:tt,-1],\n",
    "    ])).long().cuda()\n",
    "                         \n",
    "    class CustomDataset(torch.utils.data.Dataset):\n",
    "        def __init__(self, x, y):\n",
    "            super().__init__()\n",
    "            self.x = x\n",
    "            self.y = y\n",
    "\n",
    "        def __getitem__(self, idx):\n",
    "            return self.x[idx], self.y[idx]\n",
    "\n",
    "        def __len__(self):\n",
    "            return len(self.x)\n",
    "    \n",
    "    print(y.float().mean())\n",
    "    model = MLP().cuda()\n",
    "    model.train()\n",
    "    optimizer = torch.optim.Adam(model.parameters(), lr=lr, weight_decay=1.e-4)\n",
    "    \n",
    "    ds = CustomDataset(x, y)\n",
    "    dsloader = torch.utils.data.DataLoader(ds, batch_size=bs, drop_last=True, shuffle=True)\n",
    "    \n",
    "    for e in range(epochs):\n",
    "        acc_sum = 0\n",
    "        acc_total = 0\n",
    "        for xb, yb in tqdm.tqdm(dsloader):\n",
    "            \n",
    "            yhb = model(xb).squeeze()\n",
    "            loss = torch.nn.functional.binary_cross_entropy_with_logits(yhb, yb.float())\n",
    "            optimizer.zero_grad()\n",
    "            loss.mean().backward()\n",
    "            optimizer.step()\n",
    "            \n",
    "            acc_sum += ((yhb > 0).long() == yb).sum().item()\n",
    "#             acc_sum += (yhb.argmax(-1) == (torch.rand_like(yb) > 0.5).long()).sum().item()\n",
    "            acc_total += yhb.shape[0]\n",
    "        acc = 1.0* acc_sum / acc_total\n",
    "        err = 1-acc\n",
    "        print(acc, err, 2*(1-2*err))\n"
   ]
  },
  {
   "cell_type": "code",
   "execution_count": null,
   "id": "f983a634",
   "metadata": {},
   "outputs": [],
   "source": [
    "get_a_dist(dct_s, dct_t)"
   ]
  },
  {
   "cell_type": "code",
   "execution_count": null,
   "id": "31cbc1fa",
   "metadata": {},
   "outputs": [],
   "source": [
    "get_a_dist(dctc_s, dctc_t)"
   ]
  },
  {
   "cell_type": "code",
   "execution_count": null,
   "id": "a6e1ec08",
   "metadata": {},
   "outputs": [],
   "source": [
    "get_a_dist(dctb_s, dctb_t)"
   ]
  },
  {
   "cell_type": "code",
   "execution_count": null,
   "id": "df335b68",
   "metadata": {},
   "outputs": [],
   "source": [
    "get_a_dist(dctce_s, dctce_t)"
   ]
  },
  {
   "cell_type": "code",
   "execution_count": null,
   "id": "a6b5a15f",
   "metadata": {},
   "outputs": [],
   "source": []
  }
 ],
 "metadata": {
  "kernelspec": {
   "display_name": "Python 3 (ipykernel)",
   "language": "python",
   "name": "python3"
  },
  "language_info": {
   "codemirror_mode": {
    "name": "ipython",
    "version": 3
   },
   "file_extension": ".py",
   "mimetype": "text/x-python",
   "name": "python",
   "nbconvert_exporter": "python",
   "pygments_lexer": "ipython3",
   "version": "3.8.16"
  }
 },
 "nbformat": 4,
 "nbformat_minor": 5
}
