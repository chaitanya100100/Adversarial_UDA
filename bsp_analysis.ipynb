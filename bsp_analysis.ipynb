{
 "cells": [
  {
   "cell_type": "code",
   "execution_count": 36,
   "id": "3e65e230",
   "metadata": {},
   "outputs": [],
   "source": [
    "import numpy as np\n",
    "import matplotlib.pyplot as plt"
   ]
  },
  {
   "cell_type": "code",
   "execution_count": 37,
   "id": "69c038db",
   "metadata": {},
   "outputs": [],
   "source": [
    "dct_s = np.load('/vision/u/chpatel/dstest/dann_orig/data_train.npz', allow_pickle=True)\n",
    "dct_t = np.load('/vision/u/chpatel/dstest/dann_orig/data_val.npz', allow_pickle=True)\n",
    "dct_tt = np.load('/vision/u/chpatel/dstest/dann_orig/data_test.npz', allow_pickle=True)\n",
    "dct_s = {k: dct_s[k] for k in dct_s.keys()}\n",
    "dct_t = {k: dct_t[k] for k in dct_t.keys()}\n",
    "dct_tt = {k: dct_tt[k] for k in dct_tt.keys()}"
   ]
  },
  {
   "cell_type": "code",
   "execution_count": null,
   "id": "904f9788",
   "metadata": {},
   "outputs": [],
   "source": [
    "def get_sb_sw(f, y, C):\n",
    "    n = np.stack([(y == i).sum() for i in range(C)])\n",
    "    mu_c = np.stack([f[y == i].mean(0) for i in range(C)])\n",
    "    mu_c[np.isnan(mu_c)] = 0\n",
    "    mu = f.mean(0)\n",
    "\n",
    "    sb = (mu_c - mu[None]).T @ ((mu_c - mu[None]) * n_s[:, None])\n",
    "    \n",
    "    sw = np.zeros_like(sb)\n",
    "    for i in range(C):\n",
    "        fi = f[y == i]\n",
    "        sw += (fi - mu_c[i][None]).T @ (fi - mu_c[i][None])\n",
    "    \n",
    "    return sb, sw"
   ]
  },
  {
   "cell_type": "code",
   "execution_count": null,
   "id": "17cd1093",
   "metadata": {},
   "outputs": [],
   "source": [
    "def get_jw(sb, sw):\n",
    "    swinv = np.linalg.inv(sw)\n",
    "    u, s, vh = np.linalg.svd(swinv @ sb)\n",
    "    w = u\n",
    "    nume = np.trace(w.T @ sb @ w)\n",
    "    denom = np.trace(w.T @ sw @ w)\n",
    "    return nume / denom"
   ]
  },
  {
   "cell_type": "code",
   "execution_count": null,
   "id": "0ffba87f",
   "metadata": {},
   "outputs": [],
   "source": [
    "def get_jw_s_t(dct_s, dct_t):\n",
    "    idx = np.arange(dct_s['epoch_feats'].shape[0], dtype=int)\n",
    "    # np.random.shuffle(idx)\n",
    "    # idx = idx[:10000]\n",
    "    f_s = dct_s['epoch_feats'][idx]\n",
    "    y_s = dct_s['epoch_y_true'][idx]\n",
    "\n",
    "    idx = np.arange(dct_t['epoch_feats'].shape[0], dtype=int)\n",
    "    # np.random.shuffle(idx)\n",
    "    # idx = idx[:10000]\n",
    "    f_t = dct_t['epoch_feats'][idx]\n",
    "    y_t = dct_t['epoch_y_true'][idx]\n",
    "    \n",
    "    C = dct_s['epoch_cls_logits'].shape[1]\n",
    "    \n",
    "    sb_s, sw_s = get_sb_sw(f_s, y_s, C)\n",
    "    jw_s = get_jw(sb_s, sw_s)\n",
    "    \n",
    "    sb_t, sw_t = get_sb_sw(f_t, y_t, C)\n",
    "    jw_t = get_jw(sb_t, sw_t)\n",
    "    \n",
    "    return jw_s, jw_t"
   ]
  },
  {
   "cell_type": "code",
   "execution_count": 41,
   "id": "bfd7ce4f",
   "metadata": {},
   "outputs": [],
   "source": [
    "dctc_s = np.load('/vision/u/chpatel/dstest/cdan/data_train.npz', allow_pickle=True)\n",
    "dctc_t = np.load('/vision/u/chpatel/dstest/cdan/data_val.npz', allow_pickle=True)\n",
    "dctc_s = {k: dctc_s[k] for k in dctc_s.keys()}\n",
    "dctc_t = {k: dctc_t[k] for k in dctc_t.keys()}\n",
    "\n",
    "# jwc_s, jwc_t = get_jw_s_t(dctc_s, dctc_t)"
   ]
  },
  {
   "cell_type": "code",
   "execution_count": 54,
   "id": "b4f5f16d",
   "metadata": {},
   "outputs": [],
   "source": [
    "dctce_s = np.load('/vision/u/chpatel/dstest/cdane/data_train.npz', allow_pickle=True)\n",
    "dctce_t = np.load('/vision/u/chpatel/dstest/cdane/data_val.npz', allow_pickle=True)\n",
    "dctce_s = {k: dctce_s[k] for k in dctce_s.keys()}\n",
    "dctce_t = {k: dctce_t[k] for k in dctce_t.keys()}"
   ]
  },
  {
   "cell_type": "code",
   "execution_count": 42,
   "id": "7f1d4a72",
   "metadata": {},
   "outputs": [],
   "source": [
    "dctb_s = np.load('/vision/u/chpatel/dstest/dann_bsp/data_train.npz', allow_pickle=True)\n",
    "dctb_t = np.load('/vision/u/chpatel/dstest/dann_bsp/data_val.npz', allow_pickle=True)\n",
    "dctb_s = {k: dctb_s[k] for k in dctb_s.keys()}\n",
    "dctb_t = {k: dctb_t[k] for k in dctb_t.keys()}\n",
    "\n",
    "# jwb_s, jwb_t = get_jw_s_t(dctb_s, dctb_t)"
   ]
  },
  {
   "cell_type": "code",
   "execution_count": null,
   "id": "bc8567a0",
   "metadata": {},
   "outputs": [],
   "source": [
    "print(jw_s, jw_t)\n",
    "print(jwc_s, jwc_t)\n",
    "print(jwb_s, jwb_t)"
   ]
  },
  {
   "cell_type": "code",
   "execution_count": null,
   "id": "2196ba42",
   "metadata": {},
   "outputs": [],
   "source": [
    "def get_feat_singular_vals(dct):\n",
    "    idx = np.arange(dct['epoch_feats'].shape[0], dtype=int)\n",
    "    np.random.shuffle(idx)\n",
    "    idx = idx[:1000]\n",
    "    f = dct['epoch_feats'][idx]\n",
    "    u, s, vh = np.linalg.svd(f)\n",
    "    s = s / s.max()\n",
    "    return s"
   ]
  },
  {
   "cell_type": "code",
   "execution_count": null,
   "id": "eb2db7cf",
   "metadata": {},
   "outputs": [],
   "source": [
    "sv_s = get_feat_singular_vals(dct_s)\n",
    "sv_t = get_feat_singular_vals(dct_t)\n",
    "svb_s = get_feat_singular_vals(dctb_s)\n",
    "svb_t = get_feat_singular_vals(dctb_t)"
   ]
  },
  {
   "cell_type": "code",
   "execution_count": null,
   "id": "75b46e29",
   "metadata": {},
   "outputs": [],
   "source": [
    "k = 10\n",
    "plt.plot(sv_s[:k], label='dann source',  color='green', linestyle='dashed')\n",
    "plt.plot(sv_t[:k], label='dann target',  color='green', linestyle='solid')\n",
    "plt.plot(svb_s[:k], label='bsp source',  color='red', linestyle='dashed')\n",
    "plt.plot(svb_t[:k], label='bsp target',  color='red', linestyle='solid')\n",
    "plt.legend()"
   ]
  },
  {
   "cell_type": "code",
   "execution_count": null,
   "id": "03e11913",
   "metadata": {},
   "outputs": [],
   "source": [
    "def get_a_dist(dct_s, dct_t):\n",
    "    dy = np.concatenate([\n",
    "        dct_s['epoch_metadata'][:,-1],\n",
    "        dct_t['epoch_metadata'][:,-1],\n",
    "    ])\n",
    "    dyhat = np.concatenate([\n",
    "        dct_s['epoch_domcls_logits'].argmax(-1),\n",
    "        dct_t['epoch_domcls_logits'].argmax(-1),\n",
    "    ])\n",
    "    acc = (dy==dyhat).mean()\n",
    "    err = 1-acc\n",
    "    return 2*(1-2*err)"
   ]
  },
  {
   "cell_type": "code",
   "execution_count": null,
   "id": "7775c3db",
   "metadata": {},
   "outputs": [],
   "source": [
    "print(get_a_dist(dct_s, dct_t))\n",
    "print(get_a_dist(dctb_s, dctb_t))"
   ]
  },
  {
   "cell_type": "code",
   "execution_count": 66,
   "id": "7e96addd",
   "metadata": {},
   "outputs": [],
   "source": [
    "import torch\n",
    "import torch.nn as nn\n",
    "import tqdm.notebook as tqdm\n",
    "\n",
    "class MLP(nn.Module):\n",
    "    def __init__(self):\n",
    "        super().__init__()\n",
    "        self.model = nn.Sequential(\n",
    "            nn.Linear(2048, 1048),\n",
    "            nn.BatchNorm1d(1048),\n",
    "            nn.ReLU(),\n",
    "#             nn.Linear(1048, 1048),\n",
    "#             nn.BatchNorm1d(1048),\n",
    "#             nn.ReLU(),\n",
    "            nn.Linear(1048, 1)\n",
    "        )\n",
    "    def forward(self, x):\n",
    "        return self.model(x)\n",
    "\n",
    "def get_a_dist(dct, dct2):\n",
    "    \n",
    "    bs = 64\n",
    "    epochs = 5\n",
    "    lr = 1.e-3\n",
    "    \n",
    "    tt = max(dct['epoch_feats'].shape[0], dct2['epoch_feats'].shape[0])\n",
    "    \n",
    "    x = torch.from_numpy(np.concatenate([\n",
    "        dct['epoch_feats'][:tt],\n",
    "        dct2['epoch_feats'][:tt],\n",
    "    ])).float().cuda()\n",
    "    y = torch.from_numpy(np.concatenate([\n",
    "        dct['epoch_metadata'][:tt,-1],\n",
    "        dct2['epoch_metadata'][:tt,-1],\n",
    "    ])).long().cuda()\n",
    "                         \n",
    "    class CustomDataset(torch.utils.data.Dataset):\n",
    "        def __init__(self, x, y):\n",
    "            super().__init__()\n",
    "            self.x = x\n",
    "            self.y = y\n",
    "\n",
    "        def __getitem__(self, idx):\n",
    "            return self.x[idx], self.y[idx]\n",
    "\n",
    "        def __len__(self):\n",
    "            return len(self.x)\n",
    "    \n",
    "    print(y.float().mean())\n",
    "    model = MLP().cuda()\n",
    "    model.train()\n",
    "    optimizer = torch.optim.Adam(model.parameters(), lr=lr, weight_decay=1.e-4)\n",
    "    \n",
    "    ds = CustomDataset(x, y)\n",
    "    dsloader = torch.utils.data.DataLoader(ds, batch_size=bs, drop_last=True, shuffle=True)\n",
    "    \n",
    "    for e in range(epochs):\n",
    "        acc_sum = 0\n",
    "        acc_total = 0\n",
    "        for xb, yb in tqdm.tqdm(dsloader):\n",
    "            \n",
    "            yhb = model(xb).squeeze()\n",
    "            loss = torch.nn.functional.binary_cross_entropy_with_logits(yhb, yb.float())\n",
    "            optimizer.zero_grad()\n",
    "            loss.mean().backward()\n",
    "            optimizer.step()\n",
    "            \n",
    "            acc_sum += ((yhb > 0).long() == yb).sum().item()\n",
    "#             acc_sum += (yhb.argmax(-1) == (torch.rand_like(yb) > 0.5).long()).sum().item()\n",
    "            acc_total += yhb.shape[0]\n",
    "        acc = 1.0* acc_sum / acc_total\n",
    "        err = 1-acc\n",
    "        print(acc, err, 2*(1-2*err))\n"
   ]
  },
  {
   "cell_type": "code",
   "execution_count": 67,
   "id": "f983a634",
   "metadata": {},
   "outputs": [
    {
     "name": "stdout",
     "output_type": "stream",
     "text": [
      "tensor(0.8967, device='cuda:0')\n"
     ]
    },
    {
     "data": {
      "application/vnd.jupyter.widget-view+json": {
       "model_id": "de522cf73861450cb55613f3a27ff756",
       "version_major": 2,
       "version_minor": 0
      },
      "text/plain": [
       "  0%|          | 0/2261 [00:00<?, ?it/s]"
      ]
     },
     "metadata": {},
     "output_type": "display_data"
    },
    {
     "name": "stdout",
     "output_type": "stream",
     "text": [
      "0.9498631689517912 0.05013683104820876 1.799452675807165\n"
     ]
    },
    {
     "data": {
      "application/vnd.jupyter.widget-view+json": {
       "model_id": "c3c96946f8c64ef296d3d79576458e06",
       "version_major": 2,
       "version_minor": 0
      },
      "text/plain": [
       "  0%|          | 0/2261 [00:00<?, ?it/s]"
      ]
     },
     "metadata": {},
     "output_type": "display_data"
    },
    {
     "name": "stdout",
     "output_type": "stream",
     "text": [
      "0.9692268354710305 0.0307731645289695 1.876907341884122\n"
     ]
    },
    {
     "data": {
      "application/vnd.jupyter.widget-view+json": {
       "model_id": "e920e7cfd53f443d8f59f06cd0fc3aa9",
       "version_major": 2,
       "version_minor": 0
      },
      "text/plain": [
       "  0%|          | 0/2261 [00:00<?, ?it/s]"
      ]
     },
     "metadata": {},
     "output_type": "display_data"
    },
    {
     "name": "stdout",
     "output_type": "stream",
     "text": [
      "0.9750386996904025 0.024961300309597534 1.9001547987616099\n"
     ]
    },
    {
     "data": {
      "application/vnd.jupyter.widget-view+json": {
       "model_id": "25b109703e164658a1bdba0649138db7",
       "version_major": 2,
       "version_minor": 0
      },
      "text/plain": [
       "  0%|          | 0/2261 [00:00<?, ?it/s]"
      ]
     },
     "metadata": {},
     "output_type": "display_data"
    },
    {
     "name": "stdout",
     "output_type": "stream",
     "text": [
      "0.9789363113666519 0.021063688633348066 1.9157452454666077\n"
     ]
    },
    {
     "data": {
      "application/vnd.jupyter.widget-view+json": {
       "model_id": "26f38a0a98574351bd5285de473f3c1f",
       "version_major": 2,
       "version_minor": 0
      },
      "text/plain": [
       "  0%|          | 0/2261 [00:00<?, ?it/s]"
      ]
     },
     "metadata": {},
     "output_type": "display_data"
    },
    {
     "name": "stdout",
     "output_type": "stream",
     "text": [
      "0.9813273993808049 0.018672600619195068 1.9253095975232197\n"
     ]
    }
   ],
   "source": [
    "get_a_dist(dct_s, dct_t)"
   ]
  },
  {
   "cell_type": "code",
   "execution_count": 68,
   "id": "31cbc1fa",
   "metadata": {},
   "outputs": [
    {
     "name": "stdout",
     "output_type": "stream",
     "text": [
      "tensor(0.8967, device='cuda:0')\n"
     ]
    },
    {
     "data": {
      "application/vnd.jupyter.widget-view+json": {
       "model_id": "30cdb1a284684e38b6fbb6c1e1811799",
       "version_major": 2,
       "version_minor": 0
      },
      "text/plain": [
       "  0%|          | 0/2261 [00:00<?, ?it/s]"
      ]
     },
     "metadata": {},
     "output_type": "display_data"
    },
    {
     "name": "stdout",
     "output_type": "stream",
     "text": [
      "0.960733635559487 0.03926636444051301 1.842934542237948\n"
     ]
    },
    {
     "data": {
      "application/vnd.jupyter.widget-view+json": {
       "model_id": "6071a1ea594f433b879b779453512f56",
       "version_major": 2,
       "version_minor": 0
      },
      "text/plain": [
       "  0%|          | 0/2261 [00:00<?, ?it/s]"
      ]
     },
     "metadata": {},
     "output_type": "display_data"
    },
    {
     "name": "stdout",
     "output_type": "stream",
     "text": [
      "0.9778789805395842 0.02212101946041578 1.9115159221583369\n"
     ]
    },
    {
     "data": {
      "application/vnd.jupyter.widget-view+json": {
       "model_id": "1460cfdab83b4524b626aeb08f152ab1",
       "version_major": 2,
       "version_minor": 0
      },
      "text/plain": [
       "  0%|          | 0/2261 [00:00<?, ?it/s]"
      ]
     },
     "metadata": {},
     "output_type": "display_data"
    },
    {
     "name": "stdout",
     "output_type": "stream",
     "text": [
      "0.9829168509509066 0.01708314904909336 1.9316674038036266\n"
     ]
    },
    {
     "data": {
      "application/vnd.jupyter.widget-view+json": {
       "model_id": "05668c7ba34e4e989d08b723f55367e9",
       "version_major": 2,
       "version_minor": 0
      },
      "text/plain": [
       "  0%|          | 0/2261 [00:00<?, ?it/s]"
      ]
     },
     "metadata": {},
     "output_type": "display_data"
    },
    {
     "name": "stdout",
     "output_type": "stream",
     "text": [
      "0.9856811145510835 0.014318885448916463 1.9427244582043341\n"
     ]
    },
    {
     "data": {
      "application/vnd.jupyter.widget-view+json": {
       "model_id": "6dffcfac98cb4059954ad52b769ef26e",
       "version_major": 2,
       "version_minor": 0
      },
      "text/plain": [
       "  0%|          | 0/2261 [00:00<?, ?it/s]"
      ]
     },
     "metadata": {},
     "output_type": "display_data"
    },
    {
     "name": "stdout",
     "output_type": "stream",
     "text": [
      "0.9874502432551968 0.012549756744803187 1.9498009730207873\n"
     ]
    }
   ],
   "source": [
    "get_a_dist(dctc_s, dctc_t)"
   ]
  },
  {
   "cell_type": "code",
   "execution_count": 69,
   "id": "4a1db27d",
   "metadata": {},
   "outputs": [
    {
     "name": "stdout",
     "output_type": "stream",
     "text": [
      "tensor(0.8967, device='cuda:0')\n"
     ]
    },
    {
     "data": {
      "application/vnd.jupyter.widget-view+json": {
       "model_id": "accd12daa6424746a0d9d9569c4486ac",
       "version_major": 2,
       "version_minor": 0
      },
      "text/plain": [
       "  0%|          | 0/2261 [00:00<?, ?it/s]"
      ]
     },
     "metadata": {},
     "output_type": "display_data"
    },
    {
     "name": "stdout",
     "output_type": "stream",
     "text": [
      "0.9329942503317117 0.06700574966828832 1.7319770013268467\n"
     ]
    },
    {
     "data": {
      "application/vnd.jupyter.widget-view+json": {
       "model_id": "808ecc7dcb3f43a4a178eac0d4d54d05",
       "version_major": 2,
       "version_minor": 0
      },
      "text/plain": [
       "  0%|          | 0/2261 [00:00<?, ?it/s]"
      ]
     },
     "metadata": {},
     "output_type": "display_data"
    },
    {
     "name": "stdout",
     "output_type": "stream",
     "text": [
      "0.9524201127819549 0.04757988721804507 1.8096804511278197\n"
     ]
    },
    {
     "data": {
      "application/vnd.jupyter.widget-view+json": {
       "model_id": "bf18dfd49c374ccc8926ab444f543066",
       "version_major": 2,
       "version_minor": 0
      },
      "text/plain": [
       "  0%|          | 0/2261 [00:00<?, ?it/s]"
      ]
     },
     "metadata": {},
     "output_type": "display_data"
    },
    {
     "name": "stdout",
     "output_type": "stream",
     "text": [
      "0.9610238832375055 0.03897611676249446 1.8440955329500222\n"
     ]
    },
    {
     "data": {
      "application/vnd.jupyter.widget-view+json": {
       "model_id": "1967c054dbde42ae83c5217a9ab5690a",
       "version_major": 2,
       "version_minor": 0
      },
      "text/plain": [
       "  0%|          | 0/2261 [00:00<?, ?it/s]"
      ]
     },
     "metadata": {},
     "output_type": "display_data"
    },
    {
     "name": "stdout",
     "output_type": "stream",
     "text": [
      "0.9660963069438302 0.033903693056169804 1.8643852277753208\n"
     ]
    },
    {
     "data": {
      "application/vnd.jupyter.widget-view+json": {
       "model_id": "d60aa1f99471405993a4fc8b2e8f6d8d",
       "version_major": 2,
       "version_minor": 0
      },
      "text/plain": [
       "  0%|          | 0/2261 [00:00<?, ?it/s]"
      ]
     },
     "metadata": {},
     "output_type": "display_data"
    },
    {
     "name": "stdout",
     "output_type": "stream",
     "text": [
      "0.9701044891640866 0.029895510835913353 1.8804179566563466\n"
     ]
    }
   ],
   "source": [
    "get_a_dist(dctb_s, dctb_t)"
   ]
  },
  {
   "cell_type": "code",
   "execution_count": 70,
   "id": "639fe528",
   "metadata": {},
   "outputs": [
    {
     "name": "stdout",
     "output_type": "stream",
     "text": [
      "tensor(0.8967, device='cuda:0')\n"
     ]
    },
    {
     "data": {
      "application/vnd.jupyter.widget-view+json": {
       "model_id": "ed6422adb4264541abde03c326e15257",
       "version_major": 2,
       "version_minor": 0
      },
      "text/plain": [
       "  0%|          | 0/2261 [00:00<?, ?it/s]"
      ]
     },
     "metadata": {},
     "output_type": "display_data"
    },
    {
     "name": "stdout",
     "output_type": "stream",
     "text": [
      "0.9641060371517027 0.03589396284829727 1.856424148606811\n"
     ]
    },
    {
     "data": {
      "application/vnd.jupyter.widget-view+json": {
       "model_id": "486f385317e34657a0cffc9747c7f23e",
       "version_major": 2,
       "version_minor": 0
      },
      "text/plain": [
       "  0%|          | 0/2261 [00:00<?, ?it/s]"
      ]
     },
     "metadata": {},
     "output_type": "display_data"
    },
    {
     "name": "stdout",
     "output_type": "stream",
     "text": [
      "0.9794062361786819 0.020593763821318056 1.9176249447147278\n"
     ]
    },
    {
     "data": {
      "application/vnd.jupyter.widget-view+json": {
       "model_id": "03278b82b9794710aa01ee5b5fa50b22",
       "version_major": 2,
       "version_minor": 0
      },
      "text/plain": [
       "  0%|          | 0/2261 [00:00<?, ?it/s]"
      ]
     },
     "metadata": {},
     "output_type": "display_data"
    },
    {
     "name": "stdout",
     "output_type": "stream",
     "text": [
      "0.9836148275099513 0.01638517249004867 1.9344593100398053\n"
     ]
    },
    {
     "data": {
      "application/vnd.jupyter.widget-view+json": {
       "model_id": "613e70d622e74e12a491c1a2e3782904",
       "version_major": 2,
       "version_minor": 0
      },
      "text/plain": [
       "  0%|          | 0/2261 [00:00<?, ?it/s]"
      ]
     },
     "metadata": {},
     "output_type": "display_data"
    },
    {
     "name": "stdout",
     "output_type": "stream",
     "text": [
      "0.9863860017691287 0.013613998230871283 1.9455440070765149\n"
     ]
    },
    {
     "data": {
      "application/vnd.jupyter.widget-view+json": {
       "model_id": "c6148c2389ba44498709ded603066172",
       "version_major": 2,
       "version_minor": 0
      },
      "text/plain": [
       "  0%|          | 0/2261 [00:00<?, ?it/s]"
      ]
     },
     "metadata": {},
     "output_type": "display_data"
    },
    {
     "name": "stdout",
     "output_type": "stream",
     "text": [
      "0.9885490380362671 0.011450961963732853 1.9541961521450686\n"
     ]
    }
   ],
   "source": [
    "get_a_dist(dctce_s, dctce_t)"
   ]
  },
  {
   "cell_type": "code",
   "execution_count": null,
   "id": "bc879afc",
   "metadata": {},
   "outputs": [],
   "source": []
  }
 ],
 "metadata": {
  "kernelspec": {
   "display_name": "Python 3 (ipykernel)",
   "language": "python",
   "name": "python3"
  },
  "language_info": {
   "codemirror_mode": {
    "name": "ipython",
    "version": 3
   },
   "file_extension": ".py",
   "mimetype": "text/x-python",
   "name": "python",
   "nbconvert_exporter": "python",
   "pygments_lexer": "ipython3",
   "version": "3.8.16"
  }
 },
 "nbformat": 4,
 "nbformat_minor": 5
}
