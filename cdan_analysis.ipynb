{
 "cells": [
  {
   "cell_type": "code",
   "execution_count": 4,
   "id": "14195bf1",
   "metadata": {},
   "outputs": [],
   "source": [
    "import numpy as np\n",
    "import matplotlib.pyplot as plt\n",
    "import torch"
   ]
  },
  {
   "cell_type": "code",
   "execution_count": 33,
   "id": "2d8dd8fd",
   "metadata": {},
   "outputs": [],
   "source": [
    "dct_s = np.load('/vision/u/chpatel/dstest/dann_orig/data_train.npz', allow_pickle=True)\n",
    "dct_t = np.load('/vision/u/chpatel/dstest/dann_orig/data_val.npz', allow_pickle=True)\n",
    "dct_s = {k: dct_s[k] for k in dct_s.keys()}\n",
    "dct_t = {k: dct_t[k] for k in dct_t.keys()}"
   ]
  },
  {
   "cell_type": "code",
   "execution_count": 36,
   "id": "1a82eb1c",
   "metadata": {},
   "outputs": [],
   "source": [
    "dctc_s = np.load('/vision/u/chpatel/dstest/cdan/data_train.npz', allow_pickle=True)\n",
    "dctc_t = np.load('/vision/u/chpatel/dstest/cdan/data_val.npz', allow_pickle=True)\n",
    "dctc_s = {k: dctc_s[k] for k in dctc_s.keys()}\n",
    "dctc_t = {k: dctc_t[k] for k in dctc_t.keys()}"
   ]
  },
  {
   "cell_type": "code",
   "execution_count": 34,
   "id": "c5fbd639",
   "metadata": {},
   "outputs": [],
   "source": [
    "dctce_s = np.load('/vision/u/chpatel/dstest/cdane/data_train.npz', allow_pickle=True)\n",
    "dctce_t = np.load('/vision/u/chpatel/dstest/cdane/data_val.npz', allow_pickle=True)\n",
    "dctce_s = {k: dctce_s[k] for k in dctce_s.keys()}\n",
    "dctce_t = {k: dctce_t[k] for k in dctce_t.keys()}"
   ]
  },
  {
   "cell_type": "code",
   "execution_count": 14,
   "id": "ad40c0a6",
   "metadata": {},
   "outputs": [],
   "source": [
    "def entropy(dct):\n",
    "    x = torch.from_numpy(dct['epoch_cls_logits']).softmax(-1).numpy()\n",
    "    epsilon = 1e-5\n",
    "    entropy = -x * np.log(x + epsilon)\n",
    "    entropy = np.sum(entropy, axis=-1)\n",
    "    return entropy\n"
   ]
  },
  {
   "cell_type": "code",
   "execution_count": 37,
   "id": "bd16d55b",
   "metadata": {},
   "outputs": [
    {
     "name": "stdout",
     "output_type": "stream",
     "text": [
      "0.3295304\n",
      "0.5687197\n",
      "0.17907846\n",
      "0.47496793\n",
      "0.22479622\n",
      "0.458275\n"
     ]
    }
   ],
   "source": [
    "print(entropy(dct_s).mean())\n",
    "print(entropy(dct_t).mean())\n",
    "print(entropy(dctc_s).mean())\n",
    "print(entropy(dctc_t).mean())\n",
    "print(entropy(dctce_s).mean())\n",
    "print(entropy(dctce_t).mean())"
   ]
  },
  {
   "cell_type": "code",
   "execution_count": 30,
   "id": "36741954",
   "metadata": {},
   "outputs": [],
   "source": [
    "def get_a_dist(dct_s, dct_t):\n",
    "    dy = np.concatenate([\n",
    "        dct_s['epoch_metadata'][:,-1],\n",
    "        dct_t['epoch_metadata'][:,-1],\n",
    "    ])\n",
    "    dyhat = np.concatenate([\n",
    "        dct_s['epoch_domcls_logits'].argmax(-1),\n",
    "        dct_t['epoch_domcls_logits'].argmax(-1),\n",
    "    ])\n",
    "    acc = (dy==dyhat).mean()\n",
    "    err = 1-acc\n",
    "    return 2*(1-2*err)"
   ]
  },
  {
   "cell_type": "code",
   "execution_count": 31,
   "id": "8496f37d",
   "metadata": {},
   "outputs": [
    {
     "name": "stdout",
     "output_type": "stream",
     "text": [
      "1.4678621410626063\n",
      "-0.33892560582952047\n"
     ]
    }
   ],
   "source": [
    "print(get_a_dist(dct_s, dct_t))\n",
    "print(get_a_dist(dctc_s, dctc_t))"
   ]
  }
 ],
 "metadata": {
  "kernelspec": {
   "display_name": "Python 3 (ipykernel)",
   "language": "python",
   "name": "python3"
  },
  "language_info": {
   "codemirror_mode": {
    "name": "ipython",
    "version": 3
   },
   "file_extension": ".py",
   "mimetype": "text/x-python",
   "name": "python",
   "nbconvert_exporter": "python",
   "pygments_lexer": "ipython3",
   "version": "3.8.16"
  }
 },
 "nbformat": 4,
 "nbformat_minor": 5
}
